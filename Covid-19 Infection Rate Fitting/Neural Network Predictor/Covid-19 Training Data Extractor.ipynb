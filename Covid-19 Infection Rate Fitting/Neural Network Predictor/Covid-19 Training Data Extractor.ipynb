{
 "cells": [
  {
   "cell_type": "markdown",
   "metadata": {},
   "source": [
    "# Extract sequences of infection data for future neural network training\n",
    "## resultant dataset is formed of:\n",
    "## - n daily infection numbers\n",
    "## - n+1th daily infection number"
   ]
  },
  {
   "cell_type": "code",
   "execution_count": 1,
   "metadata": {},
   "outputs": [],
   "source": [
    "import csv\n",
    "import numpy as np\n"
   ]
  },
  {
   "cell_type": "code",
   "execution_count": 56,
   "metadata": {},
   "outputs": [],
   "source": [
    "# read each line of infection data as an entry to a list\n",
    "Infections_data = []\n",
    "with open('time_series_2019-ncov-Confirmed.csv') as csv_file:\n",
    "    csv_reader = csv.reader(csv_file, delimiter=',')\n",
    "    line_count = 0\n",
    "    # skip first row with column headings\n",
    "    for row in csv_reader:\n",
    "        if line_count>0:\n",
    "                \n",
    "            # deal with uneven list lengths\n",
    "            if row[-1] == '':\n",
    "                Short_row = row[4:-1]\n",
    "                Short_row = [int(x) for x in Short_row]\n",
    "                Total_infections = np.asarray(np.append(Short_row,0),dtype = 'float')\n",
    "\n",
    "            else :\n",
    "                Long_row = row[4:]\n",
    "                Long_row = [int(x) for x in Long_row]\n",
    "                Total_infections = np.asarray(Long_row,dtype = 'float')\n",
    "            # want daily infection number and not total infection number so far\n",
    "            \n",
    "            Daily_infections = np.diff(Total_infections)\n",
    "            Infections_data.append(Daily_infections)\n",
    "        line_count += 1"
   ]
  },
  {
   "cell_type": "code",
   "execution_count": 57,
   "metadata": {},
   "outputs": [
    {
     "data": {
      "text/plain": [
       "[<matplotlib.lines.Line2D at 0xad69fbc198>]"
      ]
     },
     "execution_count": 57,
     "metadata": {},
     "output_type": "execute_result"
    },
    {
     "data": {
      "image/png": "[encoded data removed]",
      "text/plain": [
       "<Figure size 432x288 with 1 Axes>"
      ]
     },
     "metadata": {
      "needs_background": "light"
     },
     "output_type": "display_data"
    }
   ],
   "source": [
    "import matplotlib.pyplot as plt\n",
    "plt.plot(Infections_data[10])"
   ]
  },
  {
   "cell_type": "code",
   "execution_count": 58,
   "metadata": {},
   "outputs": [],
   "source": [
    "memory_length = 5\n",
    "# network input is previous \"memory length\" infection counts\n",
    "memory_data = []\n",
    "# network output is infection rate on \"memory length\" + 1 day\n",
    "results = []\n",
    "# loop over each row in dataset\n",
    "for ii in range(0,len(Infections_data)):\n",
    "    \n",
    "    Infections_row = Infections_data[ii] # convert to integer list\n",
    "    # loop over each entry in row but not all the way to the end\n",
    "    for jj in range(0,len(Infections_row)-(memory_length+1)):\n",
    "        # only interested in non-zero infections\n",
    "        if Infections_row[jj]>0:\n",
    "            memory_data.append(Infections_row[jj:jj+memory_length])\n",
    "            results.append(Infections_row[jj+memory_length])\n"
   ]
  },
  {
   "cell_type": "code",
   "execution_count": 66,
   "metadata": {},
   "outputs": [
    {
     "name": "stdout",
     "output_type": "stream",
     "text": [
      "3082\n",
      "[ 2.  0.  7. 13.  8.]\n",
      "12.0\n"
     ]
    }
   ],
   "source": [
    "print(len(memory_data))\n",
    "test_ind = 99\n",
    "print(memory_data[test_ind])\n",
    "print(results[test_ind])"
   ]
  },
  {
   "cell_type": "code",
   "execution_count": 67,
   "metadata": {},
   "outputs": [],
   "source": [
    "with open(\"network_inputs_length_\" + str(memory_length) + \".csv\",\"w\") as f:\n",
    "    wr = csv.writer(f,delimiter=',',lineterminator='\\n')\n",
    "    wr.writerows(memory_data)\n",
    "    \n",
    "# don't know how to write one entry per row\n",
    "with open(\"network_outputs_length_\" + str(memory_length) + \".csv\",\"w\") as f:\n",
    "    wr = csv.writer(f)\n",
    "    wr.writerow(results)\n",
    "    "
   ]
  },
  {
   "cell_type": "code",
   "execution_count": 51,
   "metadata": {},
   "outputs": [
    {
     "name": "stdout",
     "output_type": "stream",
     "text": [
      "5892\n",
      "5892\n",
      "[33. 33. 33. 33.]\n",
      "34.0\n"
     ]
    }
   ],
   "source": [
    "X = []\n",
    "with open(\"network_inputs_length_\" + str(memory_length) + \".csv\") as csv_file:\n",
    "    csv_reader = csv.reader(csv_file, delimiter=',')\n",
    "    # skip first row with column headings\n",
    "    for row in csv_reader:\n",
    "        X.append(row)\n",
    "        \n",
    "X = np.asarray(X,dtype = 'float')\n",
    "\n",
    "Y = []\n",
    "with open(\"network_outputs_length_\" + str(memory_length) + \".csv\") as csv_file:\n",
    "    csv_reader = csv.reader(csv_file, delimiter=',')\n",
    "    line_count = 0\n",
    "    # skip first row with column headings\n",
    "    for row in csv_reader:\n",
    "        Y.append(row)\n",
    "\n",
    "Y = np.asarray(Y[0],dtype = 'float')\n",
    "print(len(X))\n",
    "print(len(Y))\n",
    "print(X[21])\n",
    "print(Y[21])"
   ]
  }
 ],
 "metadata": {
  "kernelspec": {
   "display_name": "Python 3",
   "language": "python",
   "name": "python3"
  },
  "language_info": {
   "codemirror_mode": {
    "name": "ipython",
    "version": 3
   },
   "file_extension": ".py",
   "mimetype": "text/x-python",
   "name": "python",
   "nbconvert_exporter": "python",
   "pygments_lexer": "ipython3",
   "version": "3.6.7"
  }
 },
 "nbformat": 4,
 "nbformat_minor": 2
}
