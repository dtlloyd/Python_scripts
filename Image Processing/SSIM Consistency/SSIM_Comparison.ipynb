{
 "cells": [
  {
   "cell_type": "markdown",
   "metadata": {},
   "source": [
    "# Compare SKimage SSIM function for different data types\n",
    "## **Findings**: when using float array it is necessary to manually specify dynamic range of data to get correct SSIM value"
   ]
  },
  {
   "cell_type": "code",
   "execution_count": 1,
   "metadata": {},
   "outputs": [],
   "source": [
    "# import libraries\n",
    "#import random\n",
    "import numpy as np\n",
    "import skimage.measure\n",
    "from matplotlib import pyplot as plt"
   ]
  },
  {
   "cell_type": "code",
   "execution_count": 2,
   "metadata": {},
   "outputs": [],
   "source": [
    "# SSIM definitions\n",
    "# full requires dynamic range to be specified\n",
    "def SSIM_basic(array1,array2):\n",
    "    return skimage.measure.compare_ssim(array1, array2)\n",
    "\n",
    "# as above but manually specify dynamic range in data\n",
    "def SSIM_full(array1,array2,d_range):\n",
    "    return skimage.measure.compare_ssim(array1, array2,data_range=d_range)\n"
   ]
  },
  {
   "cell_type": "code",
   "execution_count": 5,
   "metadata": {},
   "outputs": [],
   "source": [
    "# generates random array (values between 0 and 1) of chosen datatype\n",
    "# multiply by 255 to match max value allowed 8 bit integer array\n",
    "def rand_array(size,dtype):\n",
    "    array =  np.random.rand(size,size)\n",
    "    \n",
    "    if dtype=='float64':\n",
    "        return np.asarray(array*255,dtype=np.float64)\n",
    "    \n",
    "    elif dtype=='float32':\n",
    "        return np.asarray(array*255,dtype=np.float32)\n",
    "    \n",
    "    elif dtype=='float':\n",
    "        return np.asarray(array*255,dtype='float')\n",
    "    \n",
    "    elif dtype=='uint8':\n",
    "        #array = [int(x) for x in array]\n",
    "        return np.asarray(array*255,dtype = 'uint8')\n",
    "    \n",
    "    elif dtype == 'uint16':\n",
    "        return np.asarray(array*255,dtype = 'uint16')\n",
    "    \n",
    "    else:\n",
    "        return('Wrong datatype specified')\n"
   ]
  },
  {
   "cell_type": "code",
   "execution_count": 6,
   "metadata": {},
   "outputs": [
    {
     "name": "stdout",
     "output_type": "stream",
     "text": [
      "uint8 mean SSIM: 0.005455563174300663\n",
      "uint16 mean SSIM: 0.9967268170562805\n",
      "float mean SSIM: 0.00013271976963975785\n",
      "float32 mean SSIM: -1.5669442749485273e-05\n",
      "float64 mean SSIM: -0.00017433470157414928\n",
      "\n",
      "uint8 mean SSIM (full): 0.005312969360851008\n",
      "uint16 mean SSIM (full): 0.005192633354926839\n",
      "float mean SSIM (full): 0.005045827538328169\n",
      "float32 mean SSIM (full): 0.0052477184449960645\n",
      "float64 mean SSIM (full): 0.0054920478157567875\n"
     ]
    }
   ],
   "source": [
    "# test out case when random arrays are different\n",
    "# takes a few seconds to run\n",
    "\n",
    "SSIM_8bit = []\n",
    "SSIM_16bit = []\n",
    "SSIM_float64 = []\n",
    "SSIM_float64_full = []\n",
    "\n",
    "# list of data types to test\n",
    "dtype_list = ('uint8', 'uint16', 'float','float32', 'float64')\n",
    "\n",
    "test_size = 200 # test array size\n",
    "\n",
    "# loop over 1000 array pairs to build up good statistics\n",
    "for _dtype in dtype_list:\n",
    "    SSIM_hold1 = []\n",
    "    SSIM_hold2 = []\n",
    "    for ii in range(0,1000):\n",
    "        array_1 = rand_array(test_size,_dtype)\n",
    "        array_2 = rand_array(test_size,_dtype)\n",
    "        SSIM_hold1.append(SSIM_basic(array_1,array_2))\n",
    "        SSIM_hold2.append(SSIM_full(array_1,array_2,max_val-min_val))\n",
    "    print(_dtype + ' mean SSIM: ' + str(np.mean(SSIM_hold)))\n",
    "    print(_dtype + ' mean SSIM (full): ' + str(np.mean(SSIM_hold)))\n",
    "\n"
   ]
  },
  {
   "cell_type": "code",
   "execution_count": null,
   "metadata": {},
   "outputs": [],
   "source": [
    "# test out on identical arrays (answers should all be = 1)\n",
    "\n",
    "SSIM_8bit = []\n",
    "SSIM_16bit = []\n",
    "SSIM_float = []\n",
    "SSIM_float_full = []\n",
    "\n",
    "for ii in range(0,1000):\n",
    "    array_1 = rand_array(test_size,'uint8')\n",
    "    SSIM_8bit.append(SSIM_basic(array_1,array_1))\n",
    "    \n",
    "    array_1 = rand_array(test_size,'uint16')\n",
    "    SSIM_16bit.append(SSIM_basic(array_1,array_1))\n",
    "    \n",
    "    array_1 = rand_array(test_size,'float')\n",
    "    SSIM_float.append(SSIM_basic(array_1,array_1))\n",
    "    \n",
    "    array_1 = rand_array(test_size,'float')\n",
    "    max_val = np.amax(array_1)\n",
    "    min_val = np.amin(array_1)\n",
    "    \n",
    "    SSIM_float_full.append(SSIM_full(array_1,array_1,max_val-min_val))\n",
    "    \n",
    "    \n",
    "\n",
    "print(np.mean(SSIM_8bit))\n",
    "print(np.mean(SSIM_16bit))\n",
    "print(np.mean(SSIM_float))\n",
    "print(np.mean(SSIM_float_full))"
   ]
  }
 ],
 "metadata": {
  "kernelspec": {
   "display_name": "Python 3",
   "language": "python",
   "name": "python3"
  },
  "language_info": {
   "codemirror_mode": {
    "name": "ipython",
    "version": 3
   },
   "file_extension": ".py",
   "mimetype": "text/x-python",
   "name": "python",
   "nbconvert_exporter": "python",
   "pygments_lexer": "ipython3",
   "version": "3.6.7"
  }
 },
 "nbformat": 4,
 "nbformat_minor": 2
}
