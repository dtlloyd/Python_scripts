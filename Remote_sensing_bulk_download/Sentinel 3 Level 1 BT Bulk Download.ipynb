{
 "cells": [
  {
   "cell_type": "markdown",
   "metadata": {},
   "source": [
    "# Specify date range and geo-location with .json file,  download all aailable brightness temperature data from Scihub"
   ]
  },
  {
   "cell_type": "code",
   "execution_count": null,
   "metadata": {},
   "outputs": [],
   "source": [
    "# necessary libraries\n",
    "from sentinelsat import SentinelAPI, read_geojson, geojson_to_wkt\n",
    "from datetime import date, datetime, timedelta\n",
    "import time\n"
   ]
  },
  {
   "cell_type": "code",
   "execution_count": null,
   "metadata": {},
   "outputs": [],
   "source": [
    "# specify username and password, initiate SentinelSat API\n",
    "your_scihub_username =  '' # fill in coda username here\n",
    "your_scihub_password = '' # replace with your coda password\n",
    "api = SentinelAPI(your_scihub_username, your_scihub_password, 'https://scihub.copernicus.eu/dhus')"
   ]
  },
  {
   "cell_type": "code",
   "execution_count": null,
   "metadata": {},
   "outputs": [],
   "source": [
    "# location specified by polygon from .json file\n",
    "footprint = geojson_to_wkt(read_geojson('Malta_Sicily.json')) # get json file from geojson.io\n",
    "\n",
    "# specify date range and procut type (level 2 water surface temp.)\n",
    "# datestrings in format YYYYMMDD\n",
    "first_date = '20200331'\n",
    "last_date = '20200608'\n",
    "\n",
    "# product type\n",
    "p_type = 'SL_1_RBT___' # product type\n",
    "\n",
    "# query server to see if files exist\n",
    "products = api.query(footprint,\n",
    "                     date=(first_data, last_date),\n",
    "                     platformname ='Sentinel-3',orbitdirection = 'Descending'\\\n",
    "                     ,producttype =  p_type)\n",
    "# print number of available products\n",
    "print(len(products))\n",
    "# save number of days spanned by first and last dates\n",
    "N_days = (datetime.strptime(last_date, '%Y%m%d') - datetime.strptime(first_date, '%Y%m%d')).days"
   ]
  },
  {
   "cell_type": "code",
   "execution_count": null,
   "metadata": {},
   "outputs": [],
   "source": [
    "download_path = '' # fill in path to save data to\n",
    "\n",
    "LTA_dates = []\n",
    "success_ind = 0 # increment after succesfful download\n",
    "\n",
    "\n",
    "for ii in range(0,N_days):\n",
    "    # increment date by one day to provide Sentinelsat with the correct date range\n",
    "    StartDate = datetime.strptime(first_date,\"%Y%m%d\") + timedelta(days=ii)\n",
    "    EndDate = StartDate + timedelta(days=1)\n",
    "    \n",
    "    StartDate_str = datetime.strftime(StartDate,\"%Y%m%d\")\n",
    "    EndDate_str = datetime.strftime(EndDate,\"%Y%m%d\")\n",
    "    \n",
    "    # query server for data\n",
    "    products = api.query(footprint,\n",
    "                     date=(StartDate_str, EndDate_str),\n",
    "                     platformname ='Sentinel-3',orbitdirection = 'Descending'\\\n",
    "                     ,producttype =  p_type)\n",
    "\n",
    "    if p_type == 'SL_2_WST___' and len(products)>0:\n",
    "        \n",
    "        print('Product online: . Downloading now.')\n",
    "\n",
    "        products_odata = [api.get_product_odata(product_id) for product_id in products]\n",
    "        for ii in range(0,len(products)):\n",
    "            api.download(products_odata[ii]['id'],directory_path = download_path);\n",
    "\n",
    "            success_ind += 1\n",
    "        \n",
    "    \n",
    "    # check to see if product exist for time and location specified\n",
    "    \n",
    "    \n",
    "    elif  p_type == 'SL_1_RBT___' and len(products)>0:\n",
    "        \n",
    "            list_of_items = list(products.items()) # items from ordered dictionary\n",
    "            product_ID = list_of_items[0][0] # item corresponding to product id\n",
    "            product_info = api.get_product_odata(product_ID) # check to see if product id is online\n",
    "\n",
    "\n",
    "\n",
    "            if product_info['Online']: # binary check for online status\n",
    "                print('Product online: . Downloading now.')\n",
    "\n",
    "                # if product(s) exist download it/them\n",
    "                api.download_all(products,directory_path=download_path)\n",
    "                \n",
    "                success_ind += 1\n",
    "\n",
    "            # if not online, save the date for later downloading and wait to make next query\n",
    "            # possibly no necessary for CODA\n",
    "            else:\n",
    "                # try to download to trigger data recall from LTA\n",
    "                api.download_all(products,directory_path=download_path)\n",
    "                print('Product offline: Waiting 30 mins for next request.')\n",
    "                LTA_dates.append(StartDate_str)\n",
    "                time.sleep(30.5*60) # wait 30.5 mins to make next server query"
   ]
  }
 ],
 "metadata": {
  "kernelspec": {
   "display_name": "Python 3",
   "language": "python",
   "name": "python3"
  },
  "language_info": {
   "codemirror_mode": {
    "name": "ipython",
    "version": 3
   },
   "file_extension": ".py",
   "mimetype": "text/x-python",
   "name": "python",
   "nbconvert_exporter": "python",
   "pygments_lexer": "ipython3",
   "version": "3.6.6"
  }
 },
 "nbformat": 4,
 "nbformat_minor": 2
}
